{
 "cells": [
  {
   "cell_type": "markdown",
   "metadata": {
    "id": "zgeFDH0CR6cN"
   },
   "source": [
    "## Motivation Function\n",
    "\n",
    "Define a custom function called `motivate()`, the responsibility of which is to print a motivational or inspirational textual message like \"Row harder, you can do it!\". The function doesn't need any parameter inputs or return values. It can display the same message every time."
   ]
  },
  {
   "cell_type": "code",
   "execution_count": 1,
   "metadata": {
    "id": "ism3HbhJR6Hi"
   },
   "outputs": [],
   "source": [
    "#\n",
    "# FUNCTION DEFINITION (todo: write python code here to define the function)\n",
    "#\n",
    "\n",
    "# HINT: use the \"def\" keyword to start the definition\n",
    "# ... it doesn't need any parameters\n",
    "# ... and it doesn't need to return anything.\n",
    "\n",
    "\n",
    "def motivate():\n",
    "    print(\"ROW HARDER MIKE!\")\n",
    "\n"
   ]
  },
  {
   "cell_type": "code",
   "execution_count": 2,
   "metadata": {
    "colab": {
     "base_uri": "https://localhost:8080/"
    },
    "id": "XWW1iycMR44V",
    "outputId": "b3b65fd4-eb64-47a3-802a-53456d90d5c7"
   },
   "outputs": [
    {
     "name": "stdout",
     "output_type": "stream",
     "text": [
      "ROW HARDER MIKE!\n",
      "ROW HARDER MIKE!\n",
      "ROW HARDER MIKE!\n",
      "ROW HARDER MIKE!\n"
     ]
    }
   ],
   "source": [
    "#\n",
    "# FUNCTION INVOCATION (no need to edit this code - after defining the function it should just work)\n",
    "#\n",
    "\n",
    "motivate()\n",
    "motivate()\n",
    "motivate()\n",
    "motivate()\n"
   ]
  },
  {
   "cell_type": "markdown",
   "metadata": {
    "id": "ElJb0gWG0uRT"
   },
   "source": [
    "\n",
    "## Temperature Conversion Function\n",
    "\n",
    "Define a custom function called `celsius_to_fahrenheit()`, the responsibility of which is to convert a Celsius temperature (e.g. `0`) to a Fahrenheit temperature (e.g. `32`). Inside the function's definition, use a mathematical formula to convert the temperature and return the resulting value.\n"
   ]
  },
  {
   "cell_type": "code",
   "execution_count": 3,
   "metadata": {
    "id": "Tb5YtYEb0DEg"
   },
   "outputs": [],
   "source": [
    "#\n",
    "# FUNCTION DEFINITION (todo: write python code here to define the function)\n",
    "#\n",
    "\n",
    "# HINT: use the \"def\" keyword to start the definition\n",
    "# ... and make sure it accepts a parameter\n",
    "# ... and make sure it returns something.\n",
    "\n",
    "\n",
    "def celsius_to_fahrenheit(temp):\n",
    "    \"\"\"\n",
    "    Converts a Celsius temperature to a Fahrenheit temperature, using the standard conversion formula.\n",
    "    \n",
    "    Param: temp (float) like 0\n",
    "    \n",
    "    Returns: the corresponding temp (float), like 32.0\n",
    "    \"\"\"\n",
    "    return (temp * 9 / 5) + 32\n"
   ]
  },
  {
   "cell_type": "code",
   "execution_count": 4,
   "metadata": {
    "colab": {
     "base_uri": "https://localhost:8080/"
    },
    "id": "amIC-HNySmHc",
    "outputId": "09fac874-0b87-4100-bd60-dc302c737a38"
   },
   "outputs": [
    {
     "name": "stdout",
     "output_type": "stream",
     "text": [
      "32.0\n",
      "50.0\n",
      "68.0\n",
      "86.0\n",
      "104.0\n"
     ]
    }
   ],
   "source": [
    "#\n",
    "# FUNCTION INVOCATION (no need to edit this code - after defining the function it should just work)\n",
    "#\n",
    "\n",
    "# FYI: we can pass parameter values directly to the function\n",
    "\n",
    "print(celsius_to_fahrenheit(0))\n",
    "print(celsius_to_fahrenheit(10))\n",
    "print(celsius_to_fahrenheit(20))\n",
    "print(celsius_to_fahrenheit(30))\n",
    "print(celsius_to_fahrenheit(40))\n"
   ]
  },
  {
   "cell_type": "code",
   "execution_count": 5,
   "metadata": {
    "colab": {
     "base_uri": "https://localhost:8080/"
    },
    "id": "GkHyXDQgSoOx",
    "outputId": "c918f2aa-ce4e-416a-9217-e7a888dea54a"
   },
   "outputs": [
    {
     "name": "stdout",
     "output_type": "stream",
     "text": [
      "THE CELSIUS TEMP IS: 0 DEGREES\n",
      "THE FAHRENHEIT EQUIVALENT IS: 32.0 DEGREES\n"
     ]
    }
   ],
   "source": [
    "#\n",
    "# FUNCTION INVOCATION (shouldn't need to edit this code at all - it should work after you define the function above)\n",
    "#\n",
    "\n",
    "# FYI: we can store the inputs in variables before passing them to the function\n",
    "# ... (and the variable names from outside the function don't need to match the function's internal parameter names).\n",
    "\n",
    "c = 0\n",
    "print(\"THE CELSIUS TEMP IS:\", c, \"DEGREES\")\n",
    "\n",
    "f = celsius_to_fahrenheit(c)\n",
    "print(\"THE FAHRENHEIT EQUIVALENT IS:\", f, \"DEGREES\")\n"
   ]
  },
  {
   "cell_type": "markdown",
   "metadata": {
    "id": "Xjb98FD21VIj"
   },
   "source": [
    "\n",
    "## Letter Grade Conversion Function\n",
    "\n",
    "Define a custom function called `number_to_letter_grade()`, the responsibility of which is to convert a numeric grade (e.g. `87.5`) to a corresponding letter grade (e.g. `B+`). Inside the function's definition, use your own custom algorithm to convert the grade and return the resulting value.\n"
   ]
  },
  {
   "cell_type": "code",
   "execution_count": 6,
   "metadata": {
    "id": "-PXqEqQMTDTJ"
   },
   "outputs": [],
   "source": [
    "#\n",
    "# FUNCTION DEFINITION (todo: write python code here to define the function)\n",
    "#\n",
    "\n",
    "# HINT: use the \"def\" keyword to start the definition\n",
    "# ... and make sure it accepts a parameter\n",
    "# ... and make sure it returns something.\n",
    "\n",
    "\n",
    "def numeric_to_letter_grade(numeric_score):\n",
    "    \"\"\"\n",
    "    Converts a numeric score to a letter grade, using the standard grading scale.\n",
    "\n",
    "    Param: numeric_score (float) from 0 to 100, like 87.5\n",
    "    \n",
    "    Returns: the corresponding letter grade (str), like \"B+\"\n",
    "    \"\"\"\n",
    "    if numeric_score >= 97.0:\n",
    "        letter_grade = \"A+\"\n",
    "    elif numeric_score >= 93.0:\n",
    "        letter_grade = \"A\"\n",
    "    elif numeric_score >= 90.0:\n",
    "        letter_grade = \"A-\"\n",
    "    elif numeric_score >= 87.0:\n",
    "        letter_grade = \"B+\"\n",
    "    # etc...\n",
    "    else:\n",
    "        letter_grade = \"F\"\n",
    "\n",
    "    return letter_grade\n"
   ]
  },
  {
   "cell_type": "code",
   "execution_count": 7,
   "metadata": {
    "colab": {
     "base_uri": "https://localhost:8080/"
    },
    "id": "JhGMl7eO1EOA",
    "outputId": "b7e8ecf9-dfdb-4ce2-ea57-0947e5b8f329"
   },
   "outputs": [
    {
     "name": "stdout",
     "output_type": "stream",
     "text": [
      "A+\n",
      "A\n",
      "F\n",
      "F\n",
      "F\n"
     ]
    }
   ],
   "source": [
    "#\n",
    "# FUNCTION INVOCATION (shouldn't need to edit this code at all - it should work after you define the function above)\n",
    "#\n",
    "\n",
    "# FYI: we can store the inputs in variables before passing them to the function\n",
    "# ... (and the variable names from outside the function don't need to match the function's parameter names).\n",
    "\n",
    "print(numeric_to_letter_grade(100))\n",
    "print(numeric_to_letter_grade(95))\n",
    "print(numeric_to_letter_grade(85))\n",
    "print(numeric_to_letter_grade(75))\n",
    "print(numeric_to_letter_grade(50))"
   ]
  },
  {
   "cell_type": "code",
   "execution_count": 8,
   "metadata": {
    "colab": {
     "base_uri": "https://localhost:8080/"
    },
    "id": "7VNEWlSBS9I0",
    "outputId": "88797cc4-d607-47f2-e8c6-0f54d7c4266d"
   },
   "outputs": [
    {
     "name": "stdout",
     "output_type": "stream",
     "text": [
      "THE NUMERIC SCORE IS: 87.5\n",
      "THE LETTER-GRADE EQUIVALENT IS: B+\n"
     ]
    }
   ],
   "source": [
    "#\n",
    "# FUNCTION INVOCATION (shouldn't need to edit this code at all - it should work after you define the function above)\n",
    "#\n",
    "\n",
    "# FYI: we can store the inputs in variables before passing them to the function\n",
    "# ... (and the variable names from outside the function don't need to match the function's internal parameter names).\n",
    "\n",
    "score = 87.5\n",
    "print(\"THE NUMERIC SCORE IS:\", score)\n",
    "grade = numeric_to_letter_grade(score)\n",
    "print(\"THE LETTER-GRADE EQUIVALENT IS:\", grade)"
   ]
  }
 ],
 "metadata": {
  "colab": {
   "authorship_tag": "ABX9TyNU7dcZmesj0ucgJzN43S7x",
   "collapsed_sections": [
    "zgeFDH0CR6cN"
   ],
   "include_colab_link": true,
   "name": "Custom Functions Exercise",
   "provenance": []
  },
  "kernelspec": {
   "display_name": "Python 3 (ipykernel)",
   "language": "python",
   "name": "python3"
  },
  "language_info": {
   "codemirror_mode": {
    "name": "ipython",
    "version": 3
   },
   "file_extension": ".py",
   "mimetype": "text/x-python",
   "name": "python",
   "nbconvert_exporter": "python",
   "pygments_lexer": "ipython3",
   "version": "3.10.0"
  }
 },
 "nbformat": 4,
 "nbformat_minor": 1
}
